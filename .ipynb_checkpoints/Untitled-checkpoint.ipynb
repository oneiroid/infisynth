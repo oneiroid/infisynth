{
 "cells": [
  {
   "cell_type": "code",
   "execution_count": 1,
   "metadata": {
    "ExecuteTime": {
     "end_time": "2019-03-14T13:52:46.264421Z",
     "start_time": "2019-03-14T13:52:41.920067Z"
    }
   },
   "outputs": [],
   "source": [
    "import io\n",
    "import numpy as np\n",
    "import tensorflow as tf\n",
    "from hparams import hparams\n",
    "from librosa import effects\n",
    "from models import create_model\n",
    "from text import text_to_sequence\n",
    "from util import audio\n",
    "import time"
   ]
  },
  {
   "cell_type": "code",
   "execution_count": 2,
   "metadata": {
    "ExecuteTime": {
     "end_time": "2019-03-14T13:52:46.272117Z",
     "start_time": "2019-03-14T13:52:46.266295Z"
    }
   },
   "outputs": [
    {
     "name": "stdout",
     "output_type": "stream",
     "text": [
      "CPU times: user 15 µs, sys: 4 µs, total: 19 µs\n",
      "Wall time: 22.2 µs\n"
     ]
    }
   ],
   "source": [
    "class Synthesizer:\n",
    "  def load(self, checkpoint_path, model_name='tacotron'):\n",
    "    print('Constructing model: %s' % model_name)\n",
    "    inputs = tf.placeholder(tf.int32, [1, None], 'inputs')\n",
    "    input_lengths = tf.placeholder(tf.int32, [1], 'input_lengths')\n",
    "    with tf.variable_scope('model') as scope:\n",
    "      self.model = create_model(model_name, hparams)\n",
    "      self.model.initialize(inputs, input_lengths)\n",
    "      self.wav_output = audio.inv_spectrogram_tensorflow(self.model.linear_outputs[0])\n",
    "\n",
    "    print('Loading checkpoint: %s' % checkpoint_path)\n",
    "    self.session = tf.Session()\n",
    "    self.session.run(tf.global_variables_initializer())\n",
    "    saver = tf.train.Saver()\n",
    "    saver.restore(self.session, checkpoint_path)\n",
    "\n",
    "\n",
    "  def synthesize(self, text):\n",
    "    start= time.perf_counter()\n",
    "    cleaner_names = [x.strip() for x in hparams.cleaners.split(',')]\n",
    "    seq = text_to_sequence(text, cleaner_names)\n",
    "    feed_dict = {\n",
    "      self.model.inputs: [np.asarray(seq, dtype=np.int32)],\n",
    "      self.model.input_lengths: np.asarray([len(seq)], dtype=np.int32)\n",
    "    }\n",
    "    \n",
    "    timepoint1 = time.perf_counter()\n",
    "    print(\"inference prep time {:.2f}s/it\".format(timepoint1 - start))\n",
    "    start = time.perf_counter()\n",
    "    wav = self.session.run(self.wav_output, feed_dict=feed_dict)\n",
    "    timepoint1 = time.perf_counter()\n",
    "    print(\"inference time {:.2f}s/it\".format(timepoint1 - start))\n",
    "    \n",
    "    start = time.perf_counter()\n",
    "    wav = audio.inv_preemphasis(wav)\n",
    "    wav = wav[:audio.find_endpoint(wav)]\n",
    "    timepoint1 = time.perf_counter()\n",
    "    print(\"inference post proc time {:.2f}s/it\".format(timepoint1 - start))\n",
    "    #out = io.BytesIO()\n",
    "    audio.save_wav(wav, './1.wav')\n",
    "    #return out.getvalue()\n",
    "    return wav"
   ]
  },
  {
   "cell_type": "code",
   "execution_count": 3,
   "metadata": {
    "ExecuteTime": {
     "end_time": "2019-03-14T13:52:58.341790Z",
     "start_time": "2019-03-14T13:52:46.273260Z"
    }
   },
   "outputs": [
    {
     "name": "stdout",
     "output_type": "stream",
     "text": [
      "Constructing model: tacotron\n",
      "Initialized Tacotron model. Dimensions: \n",
      "  embedding:               256\n",
      "  prenet out:              128\n",
      "  encoder out:             256\n",
      "  attention out:           256\n",
      "  concat attn & out:       512\n",
      "  decoder cell out:        256\n",
      "  decoder out (5 frames):  400\n",
      "  decoder out (1 frame):   80\n",
      "  postnet out:             256\n",
      "  linear out:              1025\n",
      "Loading checkpoint: ./models/tacotron-20180906/model.ckpt\n",
      "INFO:tensorflow:Restoring parameters from ./models/tacotron-20180906/model.ckpt\n"
     ]
    }
   ],
   "source": [
    "te = 'Another world, another time. This land was green and good... Until the crystal cracked'\n",
    "synth = Synthesizer()\n",
    "synth.load('./models/tacotron-20180906/model.ckpt')"
   ]
  },
  {
   "cell_type": "code",
   "execution_count": 4,
   "metadata": {
    "ExecuteTime": {
     "end_time": "2019-03-14T13:53:09.370012Z",
     "start_time": "2019-03-14T13:53:02.955508Z"
    }
   },
   "outputs": [
    {
     "name": "stdout",
     "output_type": "stream",
     "text": [
      "inference prep time 0.00s/it\n",
      "inference time 6.40s/it\n",
      "inference post proc time 0.01s/it\n",
      "CPU times: user 7.05 s, sys: 843 ms, total: 7.89 s\n",
      "Wall time: 6.41 s\n"
     ]
    }
   ],
   "source": [
    "te = 'Another world, another time. This land was green and good... Until the crystal cracked'\n",
    "speech = synth.synthesize(te)"
   ]
  },
  {
   "cell_type": "code",
   "execution_count": 5,
   "metadata": {
    "ExecuteTime": {
     "end_time": "2019-03-14T13:54:41.799869Z",
     "start_time": "2019-03-14T13:54:40.318335Z"
    }
   },
   "outputs": [
    {
     "name": "stdout",
     "output_type": "stream",
     "text": [
      "inference prep time 0.00s/it\n",
      "inference time 1.47s/it\n",
      "inference post proc time 0.00s/it\n",
      "CPU times: user 2.47 s, sys: 593 ms, total: 3.06 s\n",
      "Wall time: 1.48 s\n"
     ]
    }
   ],
   "source": [
    "te = 'This is one very difficult sentense for me to pronounce, but I am trying my best, yo'\n",
    "speech = synth.synthesize(te)"
   ]
  },
  {
   "cell_type": "code",
   "execution_count": 6,
   "metadata": {
    "ExecuteTime": {
     "end_time": "2019-03-14T13:55:00.000313Z",
     "start_time": "2019-03-14T13:54:59.100740Z"
    }
   },
   "outputs": [
    {
     "name": "stdout",
     "output_type": "stream",
     "text": [
      "inference prep time 0.00s/it\n",
      "inference time 0.89s/it\n",
      "inference post proc time 0.00s/it\n",
      "CPU times: user 2.14 s, sys: 321 ms, total: 2.46 s\n",
      "Wall time: 896 ms\n"
     ]
    }
   ],
   "source": [
    "te = 'Another world, another time. This land was green and good... Until the crystal cracked'\n",
    "speech = synth.synthesize(te)"
   ]
  },
  {
   "cell_type": "code",
   "execution_count": 7,
   "metadata": {
    "ExecuteTime": {
     "end_time": "2019-03-14T13:55:16.913971Z",
     "start_time": "2019-03-14T13:55:16.015542Z"
    }
   },
   "outputs": [
    {
     "name": "stdout",
     "output_type": "stream",
     "text": [
      "inference prep time 0.00s/it\n",
      "inference time 0.89s/it\n",
      "inference post proc time 0.00s/it\n",
      "CPU times: user 2.06 s, sys: 380 ms, total: 2.44 s\n",
      "Wall time: 891 ms\n"
     ]
    }
   ],
   "source": [
    "te = 'This is one very difficult sentense for me to pronounce, but I am trying my best, yo'\n",
    "speech = synth.synthesize(te)"
   ]
  },
  {
   "cell_type": "code",
   "execution_count": 8,
   "metadata": {
    "ExecuteTime": {
     "end_time": "2019-03-14T13:56:25.354216Z",
     "start_time": "2019-03-14T13:56:24.255180Z"
    }
   },
   "outputs": [
    {
     "name": "stdout",
     "output_type": "stream",
     "text": [
      "inference prep time 0.00s/it\n",
      "inference time 1.08s/it\n",
      "inference post proc time 0.00s/it\n",
      "CPU times: user 2.22 s, sys: 425 ms, total: 2.64 s\n",
      "Wall time: 1.09 s\n"
     ]
    }
   ],
   "source": [
    "te = 'Now lets see how much time will it take to synthesize something conplemetely different after the system has been warmed up.'\n",
    "speech = synth.synthesize(te)"
   ]
  }
 ],
 "metadata": {
  "kernelspec": {
   "display_name": "Python 3",
   "language": "python",
   "name": "python3"
  },
  "language_info": {
   "codemirror_mode": {
    "name": "ipython",
    "version": 3
   },
   "file_extension": ".py",
   "mimetype": "text/x-python",
   "name": "python",
   "nbconvert_exporter": "python",
   "pygments_lexer": "ipython3",
   "version": "3.6.4"
  }
 },
 "nbformat": 4,
 "nbformat_minor": 2
}
